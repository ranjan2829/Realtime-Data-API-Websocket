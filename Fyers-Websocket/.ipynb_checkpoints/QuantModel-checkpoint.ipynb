{
 "cells": [
  {
   "cell_type": "code",
   "execution_count": null,
   "id": "c43117fc-a03f-44c9-99c8-e8a2bfb32f2a",
   "metadata": {},
   "outputs": [],
   "source": [
    "import pandas as pd\n",
    "import numpy as np\n",
    "import matplotlib.pyplot as plt\n",
    "from matplotlib.animation import FuncAnimation\n",
    "import tensorflow as tf\n",
    "from sklearn.preprocessing import StandardScaler\n",
    "import seaborn as sns\n",
    "import plotly.graph_objects as go\n",
    "from plotly.subplots import make_subplots\n",
    "\n",
    "# Load your data\n",
    "df = pd.read_csv('data.csv', parse_dates=['ist_datetime'])\n",
    "df.set_index('ist_datetime', inplace=True)\n",
    "\n",
    "# Calculate order book imbalance indicators\n",
    "df['bid_value'] = (df['bid_price_1'] * df['bid_qty_1'] + \n",
    "                  df['bid_price_2'] * df['bid_qty_2'] + \n",
    "                  df['bid_price_3'] * df['bid_qty_3'] + \n",
    "                  df['bid_price_4'] * df['bid_qty_4'] + \n",
    "                  df['bid_price_5'] * df['bid_qty_5'])\n",
    "\n",
    "df['ask_value'] = (df['ask_price_1'] * df['ask_qty_1'] + \n",
    "                  df['ask_price_2'] * df['ask_qty_2'] + \n",
    "                  df['ask_price_3'] * df['ask_qty_3'] + \n",
    "                  df['ask_price_4'] * df['ask_qty_4'] + \n",
    "                  df['ask_price_5'] * df['ask_qty_5'])\n",
    "\n",
    "# Order book imbalance ratio\n",
    "df['ob_imbalance'] = (df['bid_value'] - df['ask_value']) / (df['bid_value'] + df['ask_value'])\n",
    "\n",
    "# Bid-ask spread\n",
    "df['spread'] = df['ask_price_1'] - df['bid_price_1']\n",
    "\n",
    "# Calculate market pressure\n",
    "df['bid_pressure'] = df['totalbuyqty'] / (df['totalbuyqty'] + df['totalsellqty'])\n",
    "\n",
    "# Volatility indicators\n",
    "df['price_range'] = df['high'] - df['low']\n",
    "df['return'] = df['close'].pct_change()\n",
    "df['volatility'] = df['return'].rolling(window=10).std()\n",
    "\n",
    "# Additional microstructure features\n",
    "df['mid_price'] = (df['bid_price_1'] + df['ask_price_1']) / 2\n",
    "df['weighted_mid_price'] = (df['bid_price_1'] * df['ask_qty_1'] + df['ask_price_1'] * df['bid_qty_1']) / (df['bid_qty_1'] + df['ask_qty_1'])"
   ]
  },
  {
   "cell_type": "code",
   "execution_count": null,
   "id": "14033473-c9b1-42a8-a35f-20104742176c",
   "metadata": {},
   "outputs": [],
   "source": []
  }
 ],
 "metadata": {
  "kernelspec": {
   "display_name": "Python 3 (ipykernel)",
   "language": "python",
   "name": "python3"
  },
  "language_info": {
   "codemirror_mode": {
    "name": "ipython",
    "version": 3
   },
   "file_extension": ".py",
   "mimetype": "text/x-python",
   "name": "python",
   "nbconvert_exporter": "python",
   "pygments_lexer": "ipython3",
   "version": "3.12.0"
  }
 },
 "nbformat": 4,
 "nbformat_minor": 5
}
